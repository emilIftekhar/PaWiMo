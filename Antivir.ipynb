{
  "nbformat": 4,
  "nbformat_minor": 0,
  "metadata": {
    "colab": {
      "name": "Antivir.ipynb",
      "provenance": [],
      "collapsed_sections": []
    },
    "kernelspec": {
      "name": "python3",
      "display_name": "Python 3"
    },
    "accelerator": "GPU"
  },
  "cells": [
    {
      "cell_type": "code",
      "metadata": {
        "id": "ERfgwWqGNTun",
        "colab_type": "code",
        "colab": {
          "base_uri": "https://localhost:8080/",
          "height": 1000
        },
        "outputId": "03ba3e38-cef8-4cdd-9946-14f814ab147b"
      },
      "source": [
        "!pip install voila-vuetify"
      ],
      "execution_count": 2,
      "outputs": [
        {
          "output_type": "stream",
          "text": [
            "Collecting voila-vuetify\n",
            "  Downloading https://files.pythonhosted.org/packages/41/3a/2029bfd0250a6c44e0d25a7da3ff98ec4353f9f77c0e759ea8564cae15c1/voila-vuetify-0.2.2.tar.gz\n",
            "Collecting voila<0.2,>=0.1.11\n",
            "\u001b[?25l  Downloading https://files.pythonhosted.org/packages/12/a8/5e66cee652565a9de65f2b227ce30f334ab372fd762afa5b4987499ea8a8/voila-0.1.21-py3-none-any.whl (5.9MB)\n",
            "\u001b[K     |████████████████████████████████| 5.9MB 10.7MB/s \n",
            "\u001b[?25hCollecting jupyter-server<0.2.0,>=0.1.0\n",
            "\u001b[?25l  Downloading https://files.pythonhosted.org/packages/0f/9e/4b5bddfbab2f56b561b672d04c300d6c2d4b3f2c7c99e7935892104f2efa/jupyter_server-0.1.1-py2.py3-none-any.whl (183kB)\n",
            "\u001b[K     |████████████████████████████████| 184kB 56.5MB/s \n",
            "\u001b[?25hCollecting jupyterlab-pygments<0.2,>=0.1.0\n",
            "  Downloading https://files.pythonhosted.org/packages/d8/4d/579c4613dbc656c07fa424663818f8bddd77ecafe6956497f66cab82b130/jupyterlab_pygments-0.1.0-py2.py3-none-any.whl\n",
            "Collecting pygments<3,>=2.4.1\n",
            "\u001b[?25l  Downloading https://files.pythonhosted.org/packages/2d/68/106af3ae51daf807e9cdcba6a90e518954eb8b70341cee52995540a53ead/Pygments-2.6.1-py3-none-any.whl (914kB)\n",
            "\u001b[K     |████████████████████████████████| 921kB 61.3MB/s \n",
            "\u001b[?25hCollecting async-generator\n",
            "  Downloading https://files.pythonhosted.org/packages/71/52/39d20e03abd0ac9159c162ec24b93fbcaa111e8400308f2465432495ca2b/async_generator-1.10-py3-none-any.whl\n",
            "Requirement already satisfied: nbconvert<6,>=5.5.0 in /usr/local/lib/python3.6/dist-packages (from voila<0.2,>=0.1.11->voila-vuetify) (5.6.1)\n",
            "Requirement already satisfied: ipython-genutils in /usr/local/lib/python3.6/dist-packages (from jupyter-server<0.2.0,>=0.1.0->voila<0.2,>=0.1.11->voila-vuetify) (0.2.0)\n",
            "Requirement already satisfied: nbformat in /usr/local/lib/python3.6/dist-packages (from jupyter-server<0.2.0,>=0.1.0->voila<0.2,>=0.1.11->voila-vuetify) (5.0.4)\n",
            "Requirement already satisfied: jupyter-core>=4.4.0 in /usr/local/lib/python3.6/dist-packages (from jupyter-server<0.2.0,>=0.1.0->voila<0.2,>=0.1.11->voila-vuetify) (4.6.3)\n",
            "Requirement already satisfied: Send2Trash in /usr/local/lib/python3.6/dist-packages (from jupyter-server<0.2.0,>=0.1.0->voila<0.2,>=0.1.11->voila-vuetify) (1.5.0)\n",
            "Requirement already satisfied: pyzmq>=17 in /usr/local/lib/python3.6/dist-packages (from jupyter-server<0.2.0,>=0.1.0->voila<0.2,>=0.1.11->voila-vuetify) (17.0.0)\n",
            "Requirement already satisfied: tornado>=4 in /usr/local/lib/python3.6/dist-packages (from jupyter-server<0.2.0,>=0.1.0->voila<0.2,>=0.1.11->voila-vuetify) (4.5.3)\n",
            "Requirement already satisfied: jupyter-client>=5.3.1 in /usr/local/lib/python3.6/dist-packages (from jupyter-server<0.2.0,>=0.1.0->voila<0.2,>=0.1.11->voila-vuetify) (5.3.4)\n",
            "Requirement already satisfied: ipykernel in /usr/local/lib/python3.6/dist-packages (from jupyter-server<0.2.0,>=0.1.0->voila<0.2,>=0.1.11->voila-vuetify) (4.6.1)\n",
            "Requirement already satisfied: terminado>=0.8.1 in /usr/local/lib/python3.6/dist-packages (from jupyter-server<0.2.0,>=0.1.0->voila<0.2,>=0.1.11->voila-vuetify) (0.8.3)\n",
            "Requirement already satisfied: traitlets>=4.2.1 in /usr/local/lib/python3.6/dist-packages (from jupyter-server<0.2.0,>=0.1.0->voila<0.2,>=0.1.11->voila-vuetify) (4.3.3)\n",
            "Requirement already satisfied: prometheus-client in /usr/local/lib/python3.6/dist-packages (from jupyter-server<0.2.0,>=0.1.0->voila<0.2,>=0.1.11->voila-vuetify) (0.7.1)\n",
            "Requirement already satisfied: jinja2 in /usr/local/lib/python3.6/dist-packages (from jupyter-server<0.2.0,>=0.1.0->voila<0.2,>=0.1.11->voila-vuetify) (2.11.1)\n",
            "Requirement already satisfied: entrypoints>=0.2.2 in /usr/local/lib/python3.6/dist-packages (from nbconvert<6,>=5.5.0->voila<0.2,>=0.1.11->voila-vuetify) (0.3)\n",
            "Requirement already satisfied: bleach in /usr/local/lib/python3.6/dist-packages (from nbconvert<6,>=5.5.0->voila<0.2,>=0.1.11->voila-vuetify) (3.1.3)\n",
            "Requirement already satisfied: mistune<2,>=0.8.1 in /usr/local/lib/python3.6/dist-packages (from nbconvert<6,>=5.5.0->voila<0.2,>=0.1.11->voila-vuetify) (0.8.4)\n",
            "Requirement already satisfied: testpath in /usr/local/lib/python3.6/dist-packages (from nbconvert<6,>=5.5.0->voila<0.2,>=0.1.11->voila-vuetify) (0.4.4)\n",
            "Requirement already satisfied: pandocfilters>=1.4.1 in /usr/local/lib/python3.6/dist-packages (from nbconvert<6,>=5.5.0->voila<0.2,>=0.1.11->voila-vuetify) (1.4.2)\n",
            "Requirement already satisfied: defusedxml in /usr/local/lib/python3.6/dist-packages (from nbconvert<6,>=5.5.0->voila<0.2,>=0.1.11->voila-vuetify) (0.6.0)\n",
            "Requirement already satisfied: jsonschema!=2.5.0,>=2.4 in /usr/local/lib/python3.6/dist-packages (from nbformat->jupyter-server<0.2.0,>=0.1.0->voila<0.2,>=0.1.11->voila-vuetify) (2.6.0)\n",
            "Requirement already satisfied: python-dateutil>=2.1 in /usr/local/lib/python3.6/dist-packages (from jupyter-client>=5.3.1->jupyter-server<0.2.0,>=0.1.0->voila<0.2,>=0.1.11->voila-vuetify) (2.8.1)\n",
            "Requirement already satisfied: ipython>=4.0.0 in /usr/local/lib/python3.6/dist-packages (from ipykernel->jupyter-server<0.2.0,>=0.1.0->voila<0.2,>=0.1.11->voila-vuetify) (5.5.0)\n",
            "Requirement already satisfied: ptyprocess; os_name != \"nt\" in /usr/local/lib/python3.6/dist-packages (from terminado>=0.8.1->jupyter-server<0.2.0,>=0.1.0->voila<0.2,>=0.1.11->voila-vuetify) (0.6.0)\n",
            "Requirement already satisfied: six in /usr/local/lib/python3.6/dist-packages (from traitlets>=4.2.1->jupyter-server<0.2.0,>=0.1.0->voila<0.2,>=0.1.11->voila-vuetify) (1.12.0)\n",
            "Requirement already satisfied: decorator in /usr/local/lib/python3.6/dist-packages (from traitlets>=4.2.1->jupyter-server<0.2.0,>=0.1.0->voila<0.2,>=0.1.11->voila-vuetify) (4.4.2)\n",
            "Requirement already satisfied: MarkupSafe>=0.23 in /usr/local/lib/python3.6/dist-packages (from jinja2->jupyter-server<0.2.0,>=0.1.0->voila<0.2,>=0.1.11->voila-vuetify) (1.1.1)\n",
            "Requirement already satisfied: webencodings in /usr/local/lib/python3.6/dist-packages (from bleach->nbconvert<6,>=5.5.0->voila<0.2,>=0.1.11->voila-vuetify) (0.5.1)\n",
            "Requirement already satisfied: simplegeneric>0.8 in /usr/local/lib/python3.6/dist-packages (from ipython>=4.0.0->ipykernel->jupyter-server<0.2.0,>=0.1.0->voila<0.2,>=0.1.11->voila-vuetify) (0.8.1)\n",
            "Requirement already satisfied: prompt-toolkit<2.0.0,>=1.0.4 in /usr/local/lib/python3.6/dist-packages (from ipython>=4.0.0->ipykernel->jupyter-server<0.2.0,>=0.1.0->voila<0.2,>=0.1.11->voila-vuetify) (1.0.18)\n",
            "Requirement already satisfied: pexpect; sys_platform != \"win32\" in /usr/local/lib/python3.6/dist-packages (from ipython>=4.0.0->ipykernel->jupyter-server<0.2.0,>=0.1.0->voila<0.2,>=0.1.11->voila-vuetify) (4.8.0)\n",
            "Requirement already satisfied: pickleshare in /usr/local/lib/python3.6/dist-packages (from ipython>=4.0.0->ipykernel->jupyter-server<0.2.0,>=0.1.0->voila<0.2,>=0.1.11->voila-vuetify) (0.7.5)\n",
            "Requirement already satisfied: setuptools>=18.5 in /usr/local/lib/python3.6/dist-packages (from ipython>=4.0.0->ipykernel->jupyter-server<0.2.0,>=0.1.0->voila<0.2,>=0.1.11->voila-vuetify) (46.0.0)\n",
            "Requirement already satisfied: wcwidth in /usr/local/lib/python3.6/dist-packages (from prompt-toolkit<2.0.0,>=1.0.4->ipython>=4.0.0->ipykernel->jupyter-server<0.2.0,>=0.1.0->voila<0.2,>=0.1.11->voila-vuetify) (0.1.8)\n",
            "Building wheels for collected packages: voila-vuetify\n",
            "  Building wheel for voila-vuetify (setup.py) ... \u001b[?25l\u001b[?25hdone\n",
            "  Created wheel for voila-vuetify: filename=voila_vuetify-0.2.2-py2.py3-none-any.whl size=8042 sha256=1d642a94dffe4a8111ca658d6548a7cf743ad1edd9279deaf9c6a9cc9696c8a8\n",
            "  Stored in directory: /root/.cache/pip/wheels/aa/c2/18/f67314ee17cd22c25961438b9310fe58de2ceca5b533828ab0\n",
            "Successfully built voila-vuetify\n",
            "\u001b[31mERROR: datascience 0.10.6 has requirement folium==0.2.1, but you'll have folium 0.8.3 which is incompatible.\u001b[0m\n",
            "Installing collected packages: jupyter-server, pygments, jupyterlab-pygments, async-generator, voila, voila-vuetify\n",
            "  Found existing installation: Pygments 2.1.3\n",
            "    Uninstalling Pygments-2.1.3:\n",
            "      Successfully uninstalled Pygments-2.1.3\n",
            "Successfully installed async-generator-1.10 jupyter-server-0.1.1 jupyterlab-pygments-0.1.0 pygments-2.6.1 voila-0.1.21 voila-vuetify-0.2.2\n"
          ],
          "name": "stdout"
        },
        {
          "output_type": "display_data",
          "data": {
            "application/vnd.colab-display-data+json": {
              "pip_warning": {
                "packages": [
                  "pygments"
                ]
              }
            }
          },
          "metadata": {
            "tags": []
          }
        }
      ]
    },
    {
      "cell_type": "code",
      "metadata": {
        "id": "2vgOAAgTOPe8",
        "colab_type": "code",
        "colab": {
          "base_uri": "https://localhost:8080/",
          "height": 894
        },
        "outputId": "a9fad0e2-053c-4039-f4ef-590caf6fefe3"
      },
      "source": [
        "!pip install ipyvuetify"
      ],
      "execution_count": 3,
      "outputs": [
        {
          "output_type": "stream",
          "text": [
            "Collecting ipyvuetify\n",
            "\u001b[?25l  Downloading https://files.pythonhosted.org/packages/90/6d/0ba0c53f7c93a499c0b48881fb68094a682cf9fd628bd1cab044d8eed0a7/ipyvuetify-1.2.1.tar.gz (3.1MB)\n",
            "\u001b[K     |████████████████████████████████| 3.1MB 12.3MB/s \n",
            "\u001b[?25hCollecting ipyvue<2,>=1.0.0\n",
            "\u001b[?25l  Downloading https://files.pythonhosted.org/packages/7e/31/42a3814760cec749ccd0f69421d9e811eebf02adbbf6a6a49673eb55a046/ipyvue-1.2.1.tar.gz (658kB)\n",
            "\u001b[K     |████████████████████████████████| 665kB 43.0MB/s \n",
            "\u001b[?25hRequirement already satisfied: ipywidgets>=7.0.0 in /usr/local/lib/python3.6/dist-packages (from ipyvue<2,>=1.0.0->ipyvuetify) (7.5.1)\n",
            "Requirement already satisfied: ipykernel>=4.5.1 in /usr/local/lib/python3.6/dist-packages (from ipywidgets>=7.0.0->ipyvue<2,>=1.0.0->ipyvuetify) (4.6.1)\n",
            "Requirement already satisfied: nbformat>=4.2.0 in /usr/local/lib/python3.6/dist-packages (from ipywidgets>=7.0.0->ipyvue<2,>=1.0.0->ipyvuetify) (5.0.4)\n",
            "Requirement already satisfied: widgetsnbextension~=3.5.0 in /usr/local/lib/python3.6/dist-packages (from ipywidgets>=7.0.0->ipyvue<2,>=1.0.0->ipyvuetify) (3.5.1)\n",
            "Requirement already satisfied: traitlets>=4.3.1 in /usr/local/lib/python3.6/dist-packages (from ipywidgets>=7.0.0->ipyvue<2,>=1.0.0->ipyvuetify) (4.3.3)\n",
            "Requirement already satisfied: ipython>=4.0.0; python_version >= \"3.3\" in /usr/local/lib/python3.6/dist-packages (from ipywidgets>=7.0.0->ipyvue<2,>=1.0.0->ipyvuetify) (5.5.0)\n",
            "Requirement already satisfied: jupyter-client in /usr/local/lib/python3.6/dist-packages (from ipykernel>=4.5.1->ipywidgets>=7.0.0->ipyvue<2,>=1.0.0->ipyvuetify) (5.3.4)\n",
            "Requirement already satisfied: tornado>=4.0 in /usr/local/lib/python3.6/dist-packages (from ipykernel>=4.5.1->ipywidgets>=7.0.0->ipyvue<2,>=1.0.0->ipyvuetify) (4.5.3)\n",
            "Requirement already satisfied: ipython-genutils in /usr/local/lib/python3.6/dist-packages (from nbformat>=4.2.0->ipywidgets>=7.0.0->ipyvue<2,>=1.0.0->ipyvuetify) (0.2.0)\n",
            "Requirement already satisfied: jupyter-core in /usr/local/lib/python3.6/dist-packages (from nbformat>=4.2.0->ipywidgets>=7.0.0->ipyvue<2,>=1.0.0->ipyvuetify) (4.6.3)\n",
            "Requirement already satisfied: jsonschema!=2.5.0,>=2.4 in /usr/local/lib/python3.6/dist-packages (from nbformat>=4.2.0->ipywidgets>=7.0.0->ipyvue<2,>=1.0.0->ipyvuetify) (2.6.0)\n",
            "Requirement already satisfied: notebook>=4.4.1 in /usr/local/lib/python3.6/dist-packages (from widgetsnbextension~=3.5.0->ipywidgets>=7.0.0->ipyvue<2,>=1.0.0->ipyvuetify) (5.2.2)\n",
            "Requirement already satisfied: six in /usr/local/lib/python3.6/dist-packages (from traitlets>=4.3.1->ipywidgets>=7.0.0->ipyvue<2,>=1.0.0->ipyvuetify) (1.12.0)\n",
            "Requirement already satisfied: decorator in /usr/local/lib/python3.6/dist-packages (from traitlets>=4.3.1->ipywidgets>=7.0.0->ipyvue<2,>=1.0.0->ipyvuetify) (4.4.2)\n",
            "Requirement already satisfied: setuptools>=18.5 in /usr/local/lib/python3.6/dist-packages (from ipython>=4.0.0; python_version >= \"3.3\"->ipywidgets>=7.0.0->ipyvue<2,>=1.0.0->ipyvuetify) (46.0.0)\n",
            "Requirement already satisfied: pexpect; sys_platform != \"win32\" in /usr/local/lib/python3.6/dist-packages (from ipython>=4.0.0; python_version >= \"3.3\"->ipywidgets>=7.0.0->ipyvue<2,>=1.0.0->ipyvuetify) (4.8.0)\n",
            "Requirement already satisfied: pygments in /usr/local/lib/python3.6/dist-packages (from ipython>=4.0.0; python_version >= \"3.3\"->ipywidgets>=7.0.0->ipyvue<2,>=1.0.0->ipyvuetify) (2.6.1)\n",
            "Requirement already satisfied: prompt-toolkit<2.0.0,>=1.0.4 in /usr/local/lib/python3.6/dist-packages (from ipython>=4.0.0; python_version >= \"3.3\"->ipywidgets>=7.0.0->ipyvue<2,>=1.0.0->ipyvuetify) (1.0.18)\n",
            "Requirement already satisfied: simplegeneric>0.8 in /usr/local/lib/python3.6/dist-packages (from ipython>=4.0.0; python_version >= \"3.3\"->ipywidgets>=7.0.0->ipyvue<2,>=1.0.0->ipyvuetify) (0.8.1)\n",
            "Requirement already satisfied: pickleshare in /usr/local/lib/python3.6/dist-packages (from ipython>=4.0.0; python_version >= \"3.3\"->ipywidgets>=7.0.0->ipyvue<2,>=1.0.0->ipyvuetify) (0.7.5)\n",
            "Requirement already satisfied: pyzmq>=13 in /usr/local/lib/python3.6/dist-packages (from jupyter-client->ipykernel>=4.5.1->ipywidgets>=7.0.0->ipyvue<2,>=1.0.0->ipyvuetify) (17.0.0)\n",
            "Requirement already satisfied: python-dateutil>=2.1 in /usr/local/lib/python3.6/dist-packages (from jupyter-client->ipykernel>=4.5.1->ipywidgets>=7.0.0->ipyvue<2,>=1.0.0->ipyvuetify) (2.8.1)\n",
            "Requirement already satisfied: nbconvert in /usr/local/lib/python3.6/dist-packages (from notebook>=4.4.1->widgetsnbextension~=3.5.0->ipywidgets>=7.0.0->ipyvue<2,>=1.0.0->ipyvuetify) (5.6.1)\n",
            "Requirement already satisfied: jinja2 in /usr/local/lib/python3.6/dist-packages (from notebook>=4.4.1->widgetsnbextension~=3.5.0->ipywidgets>=7.0.0->ipyvue<2,>=1.0.0->ipyvuetify) (2.11.1)\n",
            "Requirement already satisfied: terminado>=0.3.3; sys_platform != \"win32\" in /usr/local/lib/python3.6/dist-packages (from notebook>=4.4.1->widgetsnbextension~=3.5.0->ipywidgets>=7.0.0->ipyvue<2,>=1.0.0->ipyvuetify) (0.8.3)\n",
            "Requirement already satisfied: ptyprocess>=0.5 in /usr/local/lib/python3.6/dist-packages (from pexpect; sys_platform != \"win32\"->ipython>=4.0.0; python_version >= \"3.3\"->ipywidgets>=7.0.0->ipyvue<2,>=1.0.0->ipyvuetify) (0.6.0)\n",
            "Requirement already satisfied: wcwidth in /usr/local/lib/python3.6/dist-packages (from prompt-toolkit<2.0.0,>=1.0.4->ipython>=4.0.0; python_version >= \"3.3\"->ipywidgets>=7.0.0->ipyvue<2,>=1.0.0->ipyvuetify) (0.1.8)\n",
            "Requirement already satisfied: pandocfilters>=1.4.1 in /usr/local/lib/python3.6/dist-packages (from nbconvert->notebook>=4.4.1->widgetsnbextension~=3.5.0->ipywidgets>=7.0.0->ipyvue<2,>=1.0.0->ipyvuetify) (1.4.2)\n",
            "Requirement already satisfied: bleach in /usr/local/lib/python3.6/dist-packages (from nbconvert->notebook>=4.4.1->widgetsnbextension~=3.5.0->ipywidgets>=7.0.0->ipyvue<2,>=1.0.0->ipyvuetify) (3.1.3)\n",
            "Requirement already satisfied: mistune<2,>=0.8.1 in /usr/local/lib/python3.6/dist-packages (from nbconvert->notebook>=4.4.1->widgetsnbextension~=3.5.0->ipywidgets>=7.0.0->ipyvue<2,>=1.0.0->ipyvuetify) (0.8.4)\n",
            "Requirement already satisfied: entrypoints>=0.2.2 in /usr/local/lib/python3.6/dist-packages (from nbconvert->notebook>=4.4.1->widgetsnbextension~=3.5.0->ipywidgets>=7.0.0->ipyvue<2,>=1.0.0->ipyvuetify) (0.3)\n",
            "Requirement already satisfied: defusedxml in /usr/local/lib/python3.6/dist-packages (from nbconvert->notebook>=4.4.1->widgetsnbextension~=3.5.0->ipywidgets>=7.0.0->ipyvue<2,>=1.0.0->ipyvuetify) (0.6.0)\n",
            "Requirement already satisfied: testpath in /usr/local/lib/python3.6/dist-packages (from nbconvert->notebook>=4.4.1->widgetsnbextension~=3.5.0->ipywidgets>=7.0.0->ipyvue<2,>=1.0.0->ipyvuetify) (0.4.4)\n",
            "Requirement already satisfied: MarkupSafe>=0.23 in /usr/local/lib/python3.6/dist-packages (from jinja2->notebook>=4.4.1->widgetsnbextension~=3.5.0->ipywidgets>=7.0.0->ipyvue<2,>=1.0.0->ipyvuetify) (1.1.1)\n",
            "Requirement already satisfied: webencodings in /usr/local/lib/python3.6/dist-packages (from bleach->nbconvert->notebook>=4.4.1->widgetsnbextension~=3.5.0->ipywidgets>=7.0.0->ipyvue<2,>=1.0.0->ipyvuetify) (0.5.1)\n",
            "Building wheels for collected packages: ipyvuetify, ipyvue\n",
            "  Building wheel for ipyvuetify (setup.py) ... \u001b[?25l\u001b[?25hdone\n",
            "  Created wheel for ipyvuetify: filename=ipyvuetify-1.2.1-py2.py3-none-any.whl size=6365522 sha256=ba06547bf1c7216c9f7b4e9912970f92166f43b1e56b123c34ff9551fd4e7f7f\n",
            "  Stored in directory: /root/.cache/pip/wheels/5f/08/43/c2ab1ecce1f59202a309db91ecdc7fb581d8e65d5dc669649a\n",
            "  Building wheel for ipyvue (setup.py) ... \u001b[?25l\u001b[?25hdone\n",
            "  Created wheel for ipyvue: filename=ipyvue-1.2.1-py2.py3-none-any.whl size=983486 sha256=18a67d9d184494129a6ff79ee390595cab6868b010c84bbd2e655b7f3b5dd9ab\n",
            "  Stored in directory: /root/.cache/pip/wheels/6c/f2/79/0de51af50dae379ae203390427f2f6a2ae36da2b0884c3cc32\n",
            "Successfully built ipyvuetify ipyvue\n",
            "Installing collected packages: ipyvue, ipyvuetify\n",
            "Successfully installed ipyvue-1.2.1 ipyvuetify-1.2.1\n"
          ],
          "name": "stdout"
        }
      ]
    },
    {
      "cell_type": "code",
      "metadata": {
        "id": "v5cNNU0ZPT9p",
        "colab_type": "code",
        "colab": {
          "base_uri": "https://localhost:8080/",
          "height": 793
        },
        "outputId": "4a89f7f9-451e-45b1-ada3-31f17e25de80"
      },
      "source": [
        "!pip install bqplot"
      ],
      "execution_count": 4,
      "outputs": [
        {
          "output_type": "stream",
          "text": [
            "Collecting bqplot\n",
            "\u001b[?25l  Downloading https://files.pythonhosted.org/packages/94/38/19f984997c7d6e4855a9a2b865022d53eb5379c1bfb98521ea0615373f1c/bqplot-0.12.6-py2.py3-none-any.whl (4.7MB)\n",
            "\u001b[K     |████████████████████████████████| 4.7MB 41.2MB/s \n",
            "\u001b[?25hRequirement already satisfied: pandas in /usr/local/lib/python3.6/dist-packages (from bqplot) (0.25.3)\n",
            "Requirement already satisfied: ipywidgets>=7.5.0 in /usr/local/lib/python3.6/dist-packages (from bqplot) (7.5.1)\n",
            "Requirement already satisfied: traitlets>=4.3.0 in /usr/local/lib/python3.6/dist-packages (from bqplot) (4.3.3)\n",
            "Collecting traittypes>=0.0.6\n",
            "  Downloading https://files.pythonhosted.org/packages/9c/d1/8d5bd662703cc1764d986f6908a608777305946fa634d34c470cd4a1e729/traittypes-0.2.1-py2.py3-none-any.whl\n",
            "Requirement already satisfied: numpy>=1.10.4 in /usr/local/lib/python3.6/dist-packages (from bqplot) (1.18.2)\n",
            "Requirement already satisfied: python-dateutil>=2.6.1 in /usr/local/lib/python3.6/dist-packages (from pandas->bqplot) (2.8.1)\n",
            "Requirement already satisfied: pytz>=2017.2 in /usr/local/lib/python3.6/dist-packages (from pandas->bqplot) (2018.9)\n",
            "Requirement already satisfied: widgetsnbextension~=3.5.0 in /usr/local/lib/python3.6/dist-packages (from ipywidgets>=7.5.0->bqplot) (3.5.1)\n",
            "Requirement already satisfied: nbformat>=4.2.0 in /usr/local/lib/python3.6/dist-packages (from ipywidgets>=7.5.0->bqplot) (5.0.4)\n",
            "Requirement already satisfied: ipython>=4.0.0; python_version >= \"3.3\" in /usr/local/lib/python3.6/dist-packages (from ipywidgets>=7.5.0->bqplot) (5.5.0)\n",
            "Requirement already satisfied: ipykernel>=4.5.1 in /usr/local/lib/python3.6/dist-packages (from ipywidgets>=7.5.0->bqplot) (4.6.1)\n",
            "Requirement already satisfied: decorator in /usr/local/lib/python3.6/dist-packages (from traitlets>=4.3.0->bqplot) (4.4.2)\n",
            "Requirement already satisfied: six in /usr/local/lib/python3.6/dist-packages (from traitlets>=4.3.0->bqplot) (1.12.0)\n",
            "Requirement already satisfied: ipython-genutils in /usr/local/lib/python3.6/dist-packages (from traitlets>=4.3.0->bqplot) (0.2.0)\n",
            "Requirement already satisfied: notebook>=4.4.1 in /usr/local/lib/python3.6/dist-packages (from widgetsnbextension~=3.5.0->ipywidgets>=7.5.0->bqplot) (5.2.2)\n",
            "Requirement already satisfied: jupyter-core in /usr/local/lib/python3.6/dist-packages (from nbformat>=4.2.0->ipywidgets>=7.5.0->bqplot) (4.6.3)\n",
            "Requirement already satisfied: jsonschema!=2.5.0,>=2.4 in /usr/local/lib/python3.6/dist-packages (from nbformat>=4.2.0->ipywidgets>=7.5.0->bqplot) (2.6.0)\n",
            "Requirement already satisfied: pexpect; sys_platform != \"win32\" in /usr/local/lib/python3.6/dist-packages (from ipython>=4.0.0; python_version >= \"3.3\"->ipywidgets>=7.5.0->bqplot) (4.8.0)\n",
            "Requirement already satisfied: setuptools>=18.5 in /usr/local/lib/python3.6/dist-packages (from ipython>=4.0.0; python_version >= \"3.3\"->ipywidgets>=7.5.0->bqplot) (46.0.0)\n",
            "Requirement already satisfied: pygments in /usr/local/lib/python3.6/dist-packages (from ipython>=4.0.0; python_version >= \"3.3\"->ipywidgets>=7.5.0->bqplot) (2.6.1)\n",
            "Requirement already satisfied: simplegeneric>0.8 in /usr/local/lib/python3.6/dist-packages (from ipython>=4.0.0; python_version >= \"3.3\"->ipywidgets>=7.5.0->bqplot) (0.8.1)\n",
            "Requirement already satisfied: pickleshare in /usr/local/lib/python3.6/dist-packages (from ipython>=4.0.0; python_version >= \"3.3\"->ipywidgets>=7.5.0->bqplot) (0.7.5)\n",
            "Requirement already satisfied: prompt-toolkit<2.0.0,>=1.0.4 in /usr/local/lib/python3.6/dist-packages (from ipython>=4.0.0; python_version >= \"3.3\"->ipywidgets>=7.5.0->bqplot) (1.0.18)\n",
            "Requirement already satisfied: tornado>=4.0 in /usr/local/lib/python3.6/dist-packages (from ipykernel>=4.5.1->ipywidgets>=7.5.0->bqplot) (4.5.3)\n",
            "Requirement already satisfied: jupyter-client in /usr/local/lib/python3.6/dist-packages (from ipykernel>=4.5.1->ipywidgets>=7.5.0->bqplot) (5.3.4)\n",
            "Requirement already satisfied: terminado>=0.3.3; sys_platform != \"win32\" in /usr/local/lib/python3.6/dist-packages (from notebook>=4.4.1->widgetsnbextension~=3.5.0->ipywidgets>=7.5.0->bqplot) (0.8.3)\n",
            "Requirement already satisfied: nbconvert in /usr/local/lib/python3.6/dist-packages (from notebook>=4.4.1->widgetsnbextension~=3.5.0->ipywidgets>=7.5.0->bqplot) (5.6.1)\n",
            "Requirement already satisfied: jinja2 in /usr/local/lib/python3.6/dist-packages (from notebook>=4.4.1->widgetsnbextension~=3.5.0->ipywidgets>=7.5.0->bqplot) (2.11.1)\n",
            "Requirement already satisfied: ptyprocess>=0.5 in /usr/local/lib/python3.6/dist-packages (from pexpect; sys_platform != \"win32\"->ipython>=4.0.0; python_version >= \"3.3\"->ipywidgets>=7.5.0->bqplot) (0.6.0)\n",
            "Requirement already satisfied: wcwidth in /usr/local/lib/python3.6/dist-packages (from prompt-toolkit<2.0.0,>=1.0.4->ipython>=4.0.0; python_version >= \"3.3\"->ipywidgets>=7.5.0->bqplot) (0.1.8)\n",
            "Requirement already satisfied: pyzmq>=13 in /usr/local/lib/python3.6/dist-packages (from jupyter-client->ipykernel>=4.5.1->ipywidgets>=7.5.0->bqplot) (17.0.0)\n",
            "Requirement already satisfied: mistune<2,>=0.8.1 in /usr/local/lib/python3.6/dist-packages (from nbconvert->notebook>=4.4.1->widgetsnbextension~=3.5.0->ipywidgets>=7.5.0->bqplot) (0.8.4)\n",
            "Requirement already satisfied: testpath in /usr/local/lib/python3.6/dist-packages (from nbconvert->notebook>=4.4.1->widgetsnbextension~=3.5.0->ipywidgets>=7.5.0->bqplot) (0.4.4)\n",
            "Requirement already satisfied: entrypoints>=0.2.2 in /usr/local/lib/python3.6/dist-packages (from nbconvert->notebook>=4.4.1->widgetsnbextension~=3.5.0->ipywidgets>=7.5.0->bqplot) (0.3)\n",
            "Requirement already satisfied: pandocfilters>=1.4.1 in /usr/local/lib/python3.6/dist-packages (from nbconvert->notebook>=4.4.1->widgetsnbextension~=3.5.0->ipywidgets>=7.5.0->bqplot) (1.4.2)\n",
            "Requirement already satisfied: defusedxml in /usr/local/lib/python3.6/dist-packages (from nbconvert->notebook>=4.4.1->widgetsnbextension~=3.5.0->ipywidgets>=7.5.0->bqplot) (0.6.0)\n",
            "Requirement already satisfied: bleach in /usr/local/lib/python3.6/dist-packages (from nbconvert->notebook>=4.4.1->widgetsnbextension~=3.5.0->ipywidgets>=7.5.0->bqplot) (3.1.3)\n",
            "Requirement already satisfied: MarkupSafe>=0.23 in /usr/local/lib/python3.6/dist-packages (from jinja2->notebook>=4.4.1->widgetsnbextension~=3.5.0->ipywidgets>=7.5.0->bqplot) (1.1.1)\n",
            "Requirement already satisfied: webencodings in /usr/local/lib/python3.6/dist-packages (from bleach->nbconvert->notebook>=4.4.1->widgetsnbextension~=3.5.0->ipywidgets>=7.5.0->bqplot) (0.5.1)\n",
            "Installing collected packages: traittypes, bqplot\n",
            "Successfully installed bqplot-0.12.6 traittypes-0.2.1\n"
          ],
          "name": "stdout"
        }
      ]
    },
    {
      "cell_type": "code",
      "metadata": {
        "id": "7TobEWKfohxP",
        "colab_type": "code",
        "colab": {}
      },
      "source": [
        "import ipyvuetify as v\n",
        "import ipywidgets as widgets\n",
        "import numpy as np\n",
        "from bqplot import pyplot as plt\n",
        "import bqplot"
      ],
      "execution_count": 0,
      "outputs": []
    },
    {
      "cell_type": "markdown",
      "metadata": {
        "id": "tGA9zefQPfWo",
        "colab_type": "text"
      },
      "source": [
        "# First Histogram\n"
      ]
    },
    {
      "cell_type": "code",
      "metadata": {
        "id": "--ihGNRsPBOk",
        "colab_type": "code",
        "colab": {}
      },
      "source": [
        "n = 200\n",
        "\n",
        "x = np.linspace(0.0, 10.0, n)\n",
        "y = np.cumsum(np.random.randn(n)*10).astype(int)\n",
        "\n",
        "fig = plt.figure( title='Histogram')\n",
        "np.random.seed(0)\n",
        "hist = plt.hist(y, bins=25)\n",
        "hist.scales['sample'].min = float(y.min())\n",
        "hist.scales['sample'].max = float(y.max())\n",
        "fig.layout.width = 'auto'\n",
        "fig.layout.height = 'auto'\n",
        "fig.layout.min_height = '300px' # so it shows nicely in the notebook\n",
        "fig"
      ],
      "execution_count": 0,
      "outputs": []
    },
    {
      "cell_type": "code",
      "metadata": {
        "id": "Na6RVz6iPa5s",
        "colab_type": "code",
        "colab": {}
      },
      "source": [
        "slider = v.Slider(thumb_label='always', class_=\"px-4\", v_model=30)\n",
        "widgets.link((slider, 'v_model'), (hist, 'bins'))\n",
        "slider"
      ],
      "execution_count": 0,
      "outputs": []
    },
    {
      "cell_type": "markdown",
      "metadata": {
        "id": "p8oA9CqqLBVA",
        "colab_type": "text"
      },
      "source": [
        "# Line Chart"
      ]
    },
    {
      "cell_type": "code",
      "metadata": {
        "id": "snJJdtTLQXDJ",
        "colab_type": "code",
        "colab": {}
      },
      "source": [
        "fig2 = plt.figure( title='Line Chart')\n",
        "np.random.seed(0)\n",
        "p = plt.plot(x, y)\n",
        "\n",
        "fig2.layout.width = 'auto'\n",
        "fig2.layout.height = 'auto'\n",
        "fig2.layout.min_height = '300px' # so it shows nicely in the notebook\n",
        "fig2"
      ],
      "execution_count": 0,
      "outputs": []
    },
    {
      "cell_type": "code",
      "metadata": {
        "id": "JPiMII0SQdCA",
        "colab_type": "code",
        "colab": {}
      },
      "source": [
        "brushintsel = bqplot.interacts.BrushIntervalSelector(scale=p.scales['x'])\n",
        "\n",
        "def update_range(*args):\n",
        "    if brushintsel.selected is not None and brushintsel.selected.shape == (2,):\n",
        "        mask = (x > brushintsel.selected[0]) & (x < brushintsel.selected[1])\n",
        "        hist.sample = y[mask]\n",
        "    \n",
        "brushintsel.observe(update_range, 'selected')\n",
        "fig2.interaction = brushintsel"
      ],
      "execution_count": 0,
      "outputs": []
    },
    {
      "cell_type": "markdown",
      "metadata": {
        "id": "6CVibXXaLb1U",
        "colab_type": "text"
      },
      "source": [
        "# Second Histogram"
      ]
    },
    {
      "cell_type": "code",
      "metadata": {
        "id": "SItJ3xEFqVW8",
        "colab_type": "code",
        "outputId": "9dd0c0ef-a4d8-4248-8629-42e98030cf16",
        "colab": {
          "base_uri": "https://localhost:8080/",
          "height": 36
        }
      },
      "source": [
        "n2 = 200\n",
        "\n",
        "x2 = np.linspace(0.0, 10.0, n)\n",
        "y2 = np.cumsum(np.random.randn(n)*10).astype(int)\n",
        "\n",
        "figHist2 = plt.figure( title='Histogram 2')\n",
        "np.random.seed(0)\n",
        "hist2 = plt.hist(y2, bins=25)\n",
        "hist2.scales['sample'].min = float(y2.min())\n",
        "hist2.scales['sample'].max = float(y2.max())\n",
        "figHist2.layout.width = 'auto'\n",
        "figHist2.layout.height = 'auto'\n",
        "figHist2.layout.min_height = '300px' # so it shows nicely in the notebook\n",
        "\n",
        "sliderHist2 = v.Slider(_metadata={'mount_id': 'histogram_bins2'}, thumb_label='always', class_='px-4', v_model=5)\n",
        "from traitlets import link\n",
        "link((sliderHist2, 'v_model'), (hist2, 'bins'))\n",
        "\n",
        "\n",
        "display(figHist2)\n",
        "display(sliderHist2)"
      ],
      "execution_count": 0,
      "outputs": [
        {
          "output_type": "stream",
          "text": [
            "blablabla\n"
          ],
          "name": "stdout"
        }
      ]
    },
    {
      "cell_type": "markdown",
      "metadata": {
        "id": "dsdOtdIQRvGP",
        "colab_type": "text"
      },
      "source": [
        "# Voila Layout"
      ]
    },
    {
      "cell_type": "code",
      "metadata": {
        "id": "UJMmuPSWQkLN",
        "colab_type": "code",
        "colab": {}
      },
      "source": [
        "v.Tabs(_metadata={'mount_id': 'content-main'}, children=[\n",
        "    v.Tab(children=['Tab1']),\n",
        "    v.Tab(children=['Tab2']),\n",
        "    v.TabItem(children=[\n",
        "        v.Layout(row=True, wrap=True, align_center=True, children=[\n",
        "            v.Flex(xs12=True, lg6=True, xl4=True, children=[\n",
        "                fig, slider\n",
        "            ]),\n",
        "            v.Flex(xs12=True, lg6=True, xl4=True, children=[\n",
        "                figHist2, sliderHist2\n",
        "            ]),\n",
        "            v.Flex(xs12=True, xl4=True, children=[\n",
        "                fig2\n",
        "            ]),\n",
        "        ])\n",
        "    ]),\n",
        "    v.TabItem(children=[\n",
        "        v.Container(children=['Lorum ipsum'])\n",
        "    ])\n",
        "])"
      ],
      "execution_count": 0,
      "outputs": []
    },
    {
      "cell_type": "code",
      "metadata": {
        "id": "gDbkMlMlRxT9",
        "colab_type": "code",
        "colab": {}
      },
      "source": [
        ""
      ],
      "execution_count": 0,
      "outputs": []
    }
  ]
}