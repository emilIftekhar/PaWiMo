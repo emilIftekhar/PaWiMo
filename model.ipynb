{
 "cells": [
  {
   "cell_type": "markdown",
   "metadata": {},
   "source": [
    "# Under construction"
   ]
  },
  {
   "cell_type": "code",
   "execution_count": 3,
   "metadata": {},
   "outputs": [],
   "source": [
    "import pymc3 as pm\n",
    "import src.input_pipeline as input_pipeline\n",
    "from src.sampling_utils import *"
   ]
  },
  {
   "cell_type": "code",
   "execution_count": 4,
   "metadata": {},
   "outputs": [],
   "source": [
    "# Load data\n",
    "cleaned_virus_data = input_pipeline.get_data()\n",
    "\n",
    "with open('data/processed/counties/counties.pkl',\"rb\") as f:\n",
    "    counties = pkl.load(f)"
   ]
  },
  {
   "cell_type": "code",
   "execution_count": null,
   "metadata": {},
   "outputs": [],
   "source": [
    "# IASampler\n",
    "times=uniform_times_by_day(data.index)\n",
    "locs=uniform_locations_by_county(counties)\n",
    "temporal_bfs = lambda x: bspline_bfs(x, np.array([0,0,1,2,3,4,5])*7*24*3600.0, 2)\n",
    "spatial_bfs = lambda x: [gaussian_bf(x,σ) for σ in [6.25, 12.5, 25.0, 50.0]]\n",
    "\n",
    "samp = IAEffectSampler(data, times, locs, temporal_bfs, spatial_bfs, num_tps = 10, time_horizon=5)\n",
    "res = samp(data.index, data.columns)\n",
    "results = {\"ia_effects\": res, \"predicted week\": data.index, \"predicted county\": data.columns}\n",
    "with open(filename, \"wb\") as file:\n",
    "    pkl.dump(results, file)"
   ]
  },
  {
   "cell_type": "code",
   "execution_count": null,
   "metadata": {},
   "outputs": [],
   "source": []
  }
 ],
 "metadata": {
  "kernelspec": {
   "display_name": "Python 3",
   "language": "python",
   "name": "python3"
  },
  "language_info": {
   "codemirror_mode": {
    "name": "ipython",
    "version": 3
   },
   "file_extension": ".py",
   "mimetype": "text/x-python",
   "name": "python",
   "nbconvert_exporter": "python",
   "pygments_lexer": "ipython3",
   "version": "3.7.6"
  }
 },
 "nbformat": 4,
 "nbformat_minor": 4
}
